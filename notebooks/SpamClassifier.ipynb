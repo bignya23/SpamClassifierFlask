{
  "nbformat": 4,
  "nbformat_minor": 0,
  "metadata": {
    "colab": {
      "provenance": [],
      "gpuType": "T4"
    },
    "kernelspec": {
      "name": "python3",
      "display_name": "Python 3"
    },
    "language_info": {
      "name": "python"
    },
    "accelerator": "GPU"
  },
  "cells": [
    {
      "cell_type": "code",
      "execution_count": 162,
      "metadata": {
        "id": "jwCKCCUYHUgD"
      },
      "outputs": [],
      "source": [
        "import torch\n",
        "from torch import nn\n",
        "import pandas as pd\n",
        "import numpy as np\n",
        "import matplotlib.pyplot as plt\n",
        "from sklearn.feature_extraction.text import CountVectorizer\n",
        "from sklearn.model_selection import train_test_split"
      ]
    },
    {
      "cell_type": "code",
      "source": [
        "device = \"cuda\" if torch.cuda.is_available() else \"cpu\"\n",
        "device"
      ],
      "metadata": {
        "colab": {
          "base_uri": "https://localhost:8080/",
          "height": 36
        },
        "id": "_Su-hu0qHl3n",
        "outputId": "3617d94d-5aac-45eb-f899-7281393d7498"
      },
      "execution_count": 163,
      "outputs": [
        {
          "output_type": "execute_result",
          "data": {
            "text/plain": [
              "'cuda'"
            ],
            "application/vnd.google.colaboratory.intrinsic+json": {
              "type": "string"
            }
          },
          "metadata": {},
          "execution_count": 163
        }
      ]
    },
    {
      "cell_type": "code",
      "source": [
        "read_csv = pd.read_csv(\"data.csv\")\n",
        "read_csv"
      ],
      "metadata": {
        "colab": {
          "base_uri": "https://localhost:8080/",
          "height": 423
        },
        "id": "Lc2LfrqRI2kA",
        "outputId": "bbb27453-27cb-43ec-f54b-94d620cb2c63"
      },
      "execution_count": 164,
      "outputs": [
        {
          "output_type": "execute_result",
          "data": {
            "text/plain": [
              "                                                  email  label\n",
              "0      date wed NUMBER aug NUMBER NUMBER NUMBER NUMB...      0\n",
              "1     martin a posted tassos papadopoulos the greek ...      0\n",
              "2     man threatens explosion in moscow thursday aug...      0\n",
              "3     klez the virus that won t die already the most...      0\n",
              "4      in adding cream to spaghetti carbonara which ...      0\n",
              "...                                                 ...    ...\n",
              "2995   abc s good morning america ranks it the NUMBE...      1\n",
              "2996   hyperlink hyperlink hyperlink let mortgage le...      1\n",
              "2997   thank you for shopping with us gifts for all ...      1\n",
              "2998   the famous ebay marketing e course learn to s...      1\n",
              "2999   hello this is chinese traditional 子 件 NUMBER世...      1\n",
              "\n",
              "[3000 rows x 2 columns]"
            ],
            "text/html": [
              "\n",
              "  <div id=\"df-74ec9aab-5651-45e4-95a9-f219dbb8202d\" class=\"colab-df-container\">\n",
              "    <div>\n",
              "<style scoped>\n",
              "    .dataframe tbody tr th:only-of-type {\n",
              "        vertical-align: middle;\n",
              "    }\n",
              "\n",
              "    .dataframe tbody tr th {\n",
              "        vertical-align: top;\n",
              "    }\n",
              "\n",
              "    .dataframe thead th {\n",
              "        text-align: right;\n",
              "    }\n",
              "</style>\n",
              "<table border=\"1\" class=\"dataframe\">\n",
              "  <thead>\n",
              "    <tr style=\"text-align: right;\">\n",
              "      <th></th>\n",
              "      <th>email</th>\n",
              "      <th>label</th>\n",
              "    </tr>\n",
              "  </thead>\n",
              "  <tbody>\n",
              "    <tr>\n",
              "      <th>0</th>\n",
              "      <td>date wed NUMBER aug NUMBER NUMBER NUMBER NUMB...</td>\n",
              "      <td>0</td>\n",
              "    </tr>\n",
              "    <tr>\n",
              "      <th>1</th>\n",
              "      <td>martin a posted tassos papadopoulos the greek ...</td>\n",
              "      <td>0</td>\n",
              "    </tr>\n",
              "    <tr>\n",
              "      <th>2</th>\n",
              "      <td>man threatens explosion in moscow thursday aug...</td>\n",
              "      <td>0</td>\n",
              "    </tr>\n",
              "    <tr>\n",
              "      <th>3</th>\n",
              "      <td>klez the virus that won t die already the most...</td>\n",
              "      <td>0</td>\n",
              "    </tr>\n",
              "    <tr>\n",
              "      <th>4</th>\n",
              "      <td>in adding cream to spaghetti carbonara which ...</td>\n",
              "      <td>0</td>\n",
              "    </tr>\n",
              "    <tr>\n",
              "      <th>...</th>\n",
              "      <td>...</td>\n",
              "      <td>...</td>\n",
              "    </tr>\n",
              "    <tr>\n",
              "      <th>2995</th>\n",
              "      <td>abc s good morning america ranks it the NUMBE...</td>\n",
              "      <td>1</td>\n",
              "    </tr>\n",
              "    <tr>\n",
              "      <th>2996</th>\n",
              "      <td>hyperlink hyperlink hyperlink let mortgage le...</td>\n",
              "      <td>1</td>\n",
              "    </tr>\n",
              "    <tr>\n",
              "      <th>2997</th>\n",
              "      <td>thank you for shopping with us gifts for all ...</td>\n",
              "      <td>1</td>\n",
              "    </tr>\n",
              "    <tr>\n",
              "      <th>2998</th>\n",
              "      <td>the famous ebay marketing e course learn to s...</td>\n",
              "      <td>1</td>\n",
              "    </tr>\n",
              "    <tr>\n",
              "      <th>2999</th>\n",
              "      <td>hello this is chinese traditional 子 件 NUMBER世...</td>\n",
              "      <td>1</td>\n",
              "    </tr>\n",
              "  </tbody>\n",
              "</table>\n",
              "<p>3000 rows × 2 columns</p>\n",
              "</div>\n",
              "    <div class=\"colab-df-buttons\">\n",
              "\n",
              "  <div class=\"colab-df-container\">\n",
              "    <button class=\"colab-df-convert\" onclick=\"convertToInteractive('df-74ec9aab-5651-45e4-95a9-f219dbb8202d')\"\n",
              "            title=\"Convert this dataframe to an interactive table.\"\n",
              "            style=\"display:none;\">\n",
              "\n",
              "  <svg xmlns=\"http://www.w3.org/2000/svg\" height=\"24px\" viewBox=\"0 -960 960 960\">\n",
              "    <path d=\"M120-120v-720h720v720H120Zm60-500h600v-160H180v160Zm220 220h160v-160H400v160Zm0 220h160v-160H400v160ZM180-400h160v-160H180v160Zm440 0h160v-160H620v160ZM180-180h160v-160H180v160Zm440 0h160v-160H620v160Z\"/>\n",
              "  </svg>\n",
              "    </button>\n",
              "\n",
              "  <style>\n",
              "    .colab-df-container {\n",
              "      display:flex;\n",
              "      gap: 12px;\n",
              "    }\n",
              "\n",
              "    .colab-df-convert {\n",
              "      background-color: #E8F0FE;\n",
              "      border: none;\n",
              "      border-radius: 50%;\n",
              "      cursor: pointer;\n",
              "      display: none;\n",
              "      fill: #1967D2;\n",
              "      height: 32px;\n",
              "      padding: 0 0 0 0;\n",
              "      width: 32px;\n",
              "    }\n",
              "\n",
              "    .colab-df-convert:hover {\n",
              "      background-color: #E2EBFA;\n",
              "      box-shadow: 0px 1px 2px rgba(60, 64, 67, 0.3), 0px 1px 3px 1px rgba(60, 64, 67, 0.15);\n",
              "      fill: #174EA6;\n",
              "    }\n",
              "\n",
              "    .colab-df-buttons div {\n",
              "      margin-bottom: 4px;\n",
              "    }\n",
              "\n",
              "    [theme=dark] .colab-df-convert {\n",
              "      background-color: #3B4455;\n",
              "      fill: #D2E3FC;\n",
              "    }\n",
              "\n",
              "    [theme=dark] .colab-df-convert:hover {\n",
              "      background-color: #434B5C;\n",
              "      box-shadow: 0px 1px 3px 1px rgba(0, 0, 0, 0.15);\n",
              "      filter: drop-shadow(0px 1px 2px rgba(0, 0, 0, 0.3));\n",
              "      fill: #FFFFFF;\n",
              "    }\n",
              "  </style>\n",
              "\n",
              "    <script>\n",
              "      const buttonEl =\n",
              "        document.querySelector('#df-74ec9aab-5651-45e4-95a9-f219dbb8202d button.colab-df-convert');\n",
              "      buttonEl.style.display =\n",
              "        google.colab.kernel.accessAllowed ? 'block' : 'none';\n",
              "\n",
              "      async function convertToInteractive(key) {\n",
              "        const element = document.querySelector('#df-74ec9aab-5651-45e4-95a9-f219dbb8202d');\n",
              "        const dataTable =\n",
              "          await google.colab.kernel.invokeFunction('convertToInteractive',\n",
              "                                                    [key], {});\n",
              "        if (!dataTable) return;\n",
              "\n",
              "        const docLinkHtml = 'Like what you see? Visit the ' +\n",
              "          '<a target=\"_blank\" href=https://colab.research.google.com/notebooks/data_table.ipynb>data table notebook</a>'\n",
              "          + ' to learn more about interactive tables.';\n",
              "        element.innerHTML = '';\n",
              "        dataTable['output_type'] = 'display_data';\n",
              "        await google.colab.output.renderOutput(dataTable, element);\n",
              "        const docLink = document.createElement('div');\n",
              "        docLink.innerHTML = docLinkHtml;\n",
              "        element.appendChild(docLink);\n",
              "      }\n",
              "    </script>\n",
              "  </div>\n",
              "\n",
              "\n",
              "<div id=\"df-7735fee6-c2ff-4d8c-a2c0-768165bd8efe\">\n",
              "  <button class=\"colab-df-quickchart\" onclick=\"quickchart('df-7735fee6-c2ff-4d8c-a2c0-768165bd8efe')\"\n",
              "            title=\"Suggest charts\"\n",
              "            style=\"display:none;\">\n",
              "\n",
              "<svg xmlns=\"http://www.w3.org/2000/svg\" height=\"24px\"viewBox=\"0 0 24 24\"\n",
              "     width=\"24px\">\n",
              "    <g>\n",
              "        <path d=\"M19 3H5c-1.1 0-2 .9-2 2v14c0 1.1.9 2 2 2h14c1.1 0 2-.9 2-2V5c0-1.1-.9-2-2-2zM9 17H7v-7h2v7zm4 0h-2V7h2v10zm4 0h-2v-4h2v4z\"/>\n",
              "    </g>\n",
              "</svg>\n",
              "  </button>\n",
              "\n",
              "<style>\n",
              "  .colab-df-quickchart {\n",
              "      --bg-color: #E8F0FE;\n",
              "      --fill-color: #1967D2;\n",
              "      --hover-bg-color: #E2EBFA;\n",
              "      --hover-fill-color: #174EA6;\n",
              "      --disabled-fill-color: #AAA;\n",
              "      --disabled-bg-color: #DDD;\n",
              "  }\n",
              "\n",
              "  [theme=dark] .colab-df-quickchart {\n",
              "      --bg-color: #3B4455;\n",
              "      --fill-color: #D2E3FC;\n",
              "      --hover-bg-color: #434B5C;\n",
              "      --hover-fill-color: #FFFFFF;\n",
              "      --disabled-bg-color: #3B4455;\n",
              "      --disabled-fill-color: #666;\n",
              "  }\n",
              "\n",
              "  .colab-df-quickchart {\n",
              "    background-color: var(--bg-color);\n",
              "    border: none;\n",
              "    border-radius: 50%;\n",
              "    cursor: pointer;\n",
              "    display: none;\n",
              "    fill: var(--fill-color);\n",
              "    height: 32px;\n",
              "    padding: 0;\n",
              "    width: 32px;\n",
              "  }\n",
              "\n",
              "  .colab-df-quickchart:hover {\n",
              "    background-color: var(--hover-bg-color);\n",
              "    box-shadow: 0 1px 2px rgba(60, 64, 67, 0.3), 0 1px 3px 1px rgba(60, 64, 67, 0.15);\n",
              "    fill: var(--button-hover-fill-color);\n",
              "  }\n",
              "\n",
              "  .colab-df-quickchart-complete:disabled,\n",
              "  .colab-df-quickchart-complete:disabled:hover {\n",
              "    background-color: var(--disabled-bg-color);\n",
              "    fill: var(--disabled-fill-color);\n",
              "    box-shadow: none;\n",
              "  }\n",
              "\n",
              "  .colab-df-spinner {\n",
              "    border: 2px solid var(--fill-color);\n",
              "    border-color: transparent;\n",
              "    border-bottom-color: var(--fill-color);\n",
              "    animation:\n",
              "      spin 1s steps(1) infinite;\n",
              "  }\n",
              "\n",
              "  @keyframes spin {\n",
              "    0% {\n",
              "      border-color: transparent;\n",
              "      border-bottom-color: var(--fill-color);\n",
              "      border-left-color: var(--fill-color);\n",
              "    }\n",
              "    20% {\n",
              "      border-color: transparent;\n",
              "      border-left-color: var(--fill-color);\n",
              "      border-top-color: var(--fill-color);\n",
              "    }\n",
              "    30% {\n",
              "      border-color: transparent;\n",
              "      border-left-color: var(--fill-color);\n",
              "      border-top-color: var(--fill-color);\n",
              "      border-right-color: var(--fill-color);\n",
              "    }\n",
              "    40% {\n",
              "      border-color: transparent;\n",
              "      border-right-color: var(--fill-color);\n",
              "      border-top-color: var(--fill-color);\n",
              "    }\n",
              "    60% {\n",
              "      border-color: transparent;\n",
              "      border-right-color: var(--fill-color);\n",
              "    }\n",
              "    80% {\n",
              "      border-color: transparent;\n",
              "      border-right-color: var(--fill-color);\n",
              "      border-bottom-color: var(--fill-color);\n",
              "    }\n",
              "    90% {\n",
              "      border-color: transparent;\n",
              "      border-bottom-color: var(--fill-color);\n",
              "    }\n",
              "  }\n",
              "</style>\n",
              "\n",
              "  <script>\n",
              "    async function quickchart(key) {\n",
              "      const quickchartButtonEl =\n",
              "        document.querySelector('#' + key + ' button');\n",
              "      quickchartButtonEl.disabled = true;  // To prevent multiple clicks.\n",
              "      quickchartButtonEl.classList.add('colab-df-spinner');\n",
              "      try {\n",
              "        const charts = await google.colab.kernel.invokeFunction(\n",
              "            'suggestCharts', [key], {});\n",
              "      } catch (error) {\n",
              "        console.error('Error during call to suggestCharts:', error);\n",
              "      }\n",
              "      quickchartButtonEl.classList.remove('colab-df-spinner');\n",
              "      quickchartButtonEl.classList.add('colab-df-quickchart-complete');\n",
              "    }\n",
              "    (() => {\n",
              "      let quickchartButtonEl =\n",
              "        document.querySelector('#df-7735fee6-c2ff-4d8c-a2c0-768165bd8efe button');\n",
              "      quickchartButtonEl.style.display =\n",
              "        google.colab.kernel.accessAllowed ? 'block' : 'none';\n",
              "    })();\n",
              "  </script>\n",
              "</div>\n",
              "\n",
              "  <div id=\"id_e0a38f08-e3a6-4a3d-9ee7-916173abe393\">\n",
              "    <style>\n",
              "      .colab-df-generate {\n",
              "        background-color: #E8F0FE;\n",
              "        border: none;\n",
              "        border-radius: 50%;\n",
              "        cursor: pointer;\n",
              "        display: none;\n",
              "        fill: #1967D2;\n",
              "        height: 32px;\n",
              "        padding: 0 0 0 0;\n",
              "        width: 32px;\n",
              "      }\n",
              "\n",
              "      .colab-df-generate:hover {\n",
              "        background-color: #E2EBFA;\n",
              "        box-shadow: 0px 1px 2px rgba(60, 64, 67, 0.3), 0px 1px 3px 1px rgba(60, 64, 67, 0.15);\n",
              "        fill: #174EA6;\n",
              "      }\n",
              "\n",
              "      [theme=dark] .colab-df-generate {\n",
              "        background-color: #3B4455;\n",
              "        fill: #D2E3FC;\n",
              "      }\n",
              "\n",
              "      [theme=dark] .colab-df-generate:hover {\n",
              "        background-color: #434B5C;\n",
              "        box-shadow: 0px 1px 3px 1px rgba(0, 0, 0, 0.15);\n",
              "        filter: drop-shadow(0px 1px 2px rgba(0, 0, 0, 0.3));\n",
              "        fill: #FFFFFF;\n",
              "      }\n",
              "    </style>\n",
              "    <button class=\"colab-df-generate\" onclick=\"generateWithVariable('read_csv')\"\n",
              "            title=\"Generate code using this dataframe.\"\n",
              "            style=\"display:none;\">\n",
              "\n",
              "  <svg xmlns=\"http://www.w3.org/2000/svg\" height=\"24px\"viewBox=\"0 0 24 24\"\n",
              "       width=\"24px\">\n",
              "    <path d=\"M7,19H8.4L18.45,9,17,7.55,7,17.6ZM5,21V16.75L18.45,3.32a2,2,0,0,1,2.83,0l1.4,1.43a1.91,1.91,0,0,1,.58,1.4,1.91,1.91,0,0,1-.58,1.4L9.25,21ZM18.45,9,17,7.55Zm-12,3A5.31,5.31,0,0,0,4.9,8.1,5.31,5.31,0,0,0,1,6.5,5.31,5.31,0,0,0,4.9,4.9,5.31,5.31,0,0,0,6.5,1,5.31,5.31,0,0,0,8.1,4.9,5.31,5.31,0,0,0,12,6.5,5.46,5.46,0,0,0,6.5,12Z\"/>\n",
              "  </svg>\n",
              "    </button>\n",
              "    <script>\n",
              "      (() => {\n",
              "      const buttonEl =\n",
              "        document.querySelector('#id_e0a38f08-e3a6-4a3d-9ee7-916173abe393 button.colab-df-generate');\n",
              "      buttonEl.style.display =\n",
              "        google.colab.kernel.accessAllowed ? 'block' : 'none';\n",
              "\n",
              "      buttonEl.onclick = () => {\n",
              "        google.colab.notebook.generateWithVariable('read_csv');\n",
              "      }\n",
              "      })();\n",
              "    </script>\n",
              "  </div>\n",
              "\n",
              "    </div>\n",
              "  </div>\n"
            ],
            "application/vnd.google.colaboratory.intrinsic+json": {
              "type": "dataframe",
              "variable_name": "read_csv",
              "summary": "{\n  \"name\": \"read_csv\",\n  \"rows\": 3000,\n  \"fields\": [\n    {\n      \"column\": \"email\",\n      \"properties\": {\n        \"dtype\": \"string\",\n        \"num_unique_values\": 2872,\n        \"samples\": [\n          \"i ve seen articles on this type of stuff passing through various forums for several years i ve always found archaeology interesting for no particular reason here is a recent article from u s news that i actually still have in the dank recesses of my virtual repository james rogers jamesr URL URL defrosting the past ancient human and animal remains are melting out of glaciers a bounty of a warming world by alex markels as he hiked near colorado s continental divide in the summer of NUMBER ed knapp noticed a strange shape jutting from a melting ice field at NUMBER NUMBER feet it looked like a bison skull the building contractor and amateur archaeologist recalls i thought that s strange bison don t live this high up knapp brought the skull to the denver museum of nature and science where scientists last month announced that it was indeed from a bison one that died about NUMBER years ago this was an extraordinary discovery says russ graham the museum s chief curator adding that it could alter notions of the mountain environment centuries ago there s probably a lot more like it yet to be found and not just bison colorado isn t the only place where glaciers and snowfields are melting decades of unusual warmth in regions from peru to alaska a trend some think is linked to emissions from cars and industry have shrunk or thawed many of the world s NUMBER NUMBER glaciers as the ice recedes a treasure trove of human and animal artifacts is emerging extraordinarily well preserved after centuries in the deep freeze the fabrics wood bone and dna rich tissue found on the mucky fringes of the ice are revising scientists understanding of our predecessors health habits and technology and the prey they pursued it s mind boggling how many different fields are being advanced through studying these remains says johan reinhard a high altitude archaeologist and explorer in residence at the national geographic society rare spectacular finds like the frozen mummies he discovered in the andes of peru in the NUMBERs and the legendary NUMBER NUMBER year old ice man found at the edge of a receding glacier in the alps in NUMBER have offered time capsules of cultural and biological information now as the ice continues to retreat it is yielding not just occasional treasures but long records of humans and animals in the high mountains vanishing act the trick is finding such specimens before mother nature and looters take them first once uncovered frozen remains can deteriorate within hours or be gnawed by animals moreover they re often so well preserved when they emerge that people who come upon them don t even realize they re ancient that was the case when three men hunting sheep near a high glacier in british columbia canada three years ago saw what they thought was a dead animal it looked a little like sealskin buried in the ice recalls warren ward a teacher from nearby nelson but when i looked closer i could see leather fringe from a coat and finger bones figuring they had found the remains of another hunter or perhaps a fur trapper the men stowed a flint knife and other artifacts in a zip loc bag and delivered them to local officials archaeologists later exhumed the fallen hunter s body along with a woven hat fur clothing and what seemed to be a medicine bag carbon dating revealed that the hunter lived about NUMBER years ago dubbed kwaday dan ts inchi or long ago person found by people of the champagne and aishihik first nations who may be his direct descendants he is perhaps the best preserved human from the period ever found in north america other findings from melting ice in the neighboring yukon region could explain what that long ago person was doing in the mountains in the first place before this there was no archaeological record of people living here says greg hare a yukon government archaeologist now we see that this area was very much part of people s seasonal activities like ward s discovery the search began by chance when kristin benedek caught a whiff of what smelled like a barnyard as she and her husband gerry kuzyk hunted sheep at NUMBER NUMBER feet in the mountains of the south yukon they followed the scent to a melting patch of ice covered in caribou dung it was really odd because i knew there hadn t been caribou in the area for at least NUMBER years recalls kuzyk then a wildlife biologist with the yukon government caribou cake returning a week later he found what looked like a pencil with string wrapped around it it turned out to be a NUMBER NUMBER year old atlatl or spear thrower further investigation of the ice patch and scores of others around the region revealed icy layer cakes filled with caribou remains and human detritus chronicling NUMBER NUMBER years of changing hunting practices scientists now believe ancient caribou and other animals flocked to the ice each summer to cool down and escape swarming mosquitoes and flies hunters followed the game they returned for centuries and discarded some equipment in the ice we ve got people hunting with throwing darts up until NUMBER NUMBER years ago says hare who now oversees the research project then we see the first appearance of the bow and arrow about NUMBER NUMBER years ago and by NUMBER NUMBER years ago there s no more throwing darts now scientists are trying to make the search less a matter of luck they are developing sophisticated computer models that combine data on where glaciers are melting fastest and where humans and animals are known to have migrated to pinpoint the best places to search in alaska s wrangell and st elias mountain ranges the united states most glaciated terrain and in the andes johan reinhard thinks the fast thawing european alps could also deliver more findings perhaps as exquisite as the ice man global warming is providing us high altitude archaeologists with some fantastic opportunities right now we re probably about the only ones happy about it \",\n          \" hyperlink legal teen xxx hardcoreNUMBER free boy was gauge surprised when joey s friend conveniently showed up as things were getting hot she always dreamed of sucking two cocks while she played with herself during study hall but fantasy is different than reality i wonder if she ever gave a thought to where those dicks would end up after they were done with her mouth find out for NUMBER free at legal teen girls we just added gauge s three way you have to see it we have tons of other sweet young teens getting it in ways they never imagined possible for free hyperlink click here for your NUMBER free lifetime membership disclaimer we are strongly against sending unsolicited emails to those who do not wish to receive our special mailings you have opted in to one or more of our affiliate sites requesting to be notified of any special offers we may run from time to time we also have attained the services of an independent NUMBERrd party to overlook list management and removal services this is not unsolicited email if you do not wish to receive further mailings please hyperlink click here to be removed from the list please accept our apologies if you have been sent this email in error we honor all removal requests \",\n          \"if anyone here is running null beta then you may like these gnome theme packages they are enhanced and repackages from my previous theme packs this time to conform to the way pre release rhNUMBER handles themes for gtkNUMBER and gtkNUMBER redhat has a preferences themes app but themes only show up there that have both gtkNUMBER NUMBER gnomeNUMBER themes and gtkNUMBER NUMBER gtkNUMBER aka gnomeNUMBER themes available then rh will apply the theme to both gtk versions so the user does not really notice that different gtk toolkit versions are being used since they should look the same this gtkNUMBER engines compat rpm has gtkNUMBER ported themes for those themes that are included in the rh package gtk engines themes pack for gtkNUMBER the gtkNUMBER NUMBER themez pack mostly repackages my previous theme rpms in a way that the null btea like and supposedly the next rhNUMBER when released forward original mail from angles puglisi angles aminvestments com date NUMBER NUMBER NUMBER NUMBER NUMBER NUMBER am subject some null eyecandy packages \"\n        ],\n        \"semantic_type\": \"\",\n        \"description\": \"\"\n      }\n    },\n    {\n      \"column\": \"label\",\n      \"properties\": {\n        \"dtype\": \"number\",\n        \"std\": 0,\n        \"min\": 0,\n        \"max\": 1,\n        \"num_unique_values\": 2,\n        \"samples\": [\n          1,\n          0\n        ],\n        \"semantic_type\": \"\",\n        \"description\": \"\"\n      }\n    }\n  ]\n}"
            }
          },
          "metadata": {},
          "execution_count": 164
        }
      ]
    },
    {
      "cell_type": "code",
      "source": [
        "read_csv.dropna(subset=[\"email\"],inplace = True)\n",
        "\n",
        "text = read_csv[\"email\"]\n",
        "vectorizer = CountVectorizer()\n",
        "bow_data = vectorizer.fit_transform(text).toarray()\n",
        "\n",
        "\n",
        "X = torch.tensor(bow_data, dtype=torch.float)\n",
        "y = torch.tensor(read_csv[\"label\"], dtype = torch.float)\n",
        "\n",
        "print(X[:1])\n",
        "\n",
        "X.shape"
      ],
      "metadata": {
        "colab": {
          "base_uri": "https://localhost:8080/"
        },
        "id": "ncDx0BP5HoEp",
        "outputId": "281b40f7-4e51-4198-cae2-6766ea584028"
      },
      "execution_count": 165,
      "outputs": [
        {
          "output_type": "stream",
          "name": "stdout",
          "text": [
            "tensor([[0., 0., 0.,  ..., 0., 0., 0.]])\n"
          ]
        },
        {
          "output_type": "execute_result",
          "data": {
            "text/plain": [
              "torch.Size([2999, 34116])"
            ]
          },
          "metadata": {},
          "execution_count": 165
        }
      ]
    },
    {
      "cell_type": "code",
      "source": [
        "import pickle\n",
        "\n",
        "with open('vectorizer.pkl', 'wb') as f:\n",
        "    pickle.dump(vectorizer, f)"
      ],
      "metadata": {
        "id": "mKbVwb7gY8AI"
      },
      "execution_count": 166,
      "outputs": []
    },
    {
      "cell_type": "code",
      "source": [
        "X_train, X_test , y_train , y_test = train_test_split(X,y,test_size=0.3,random_state=42)\n",
        "len(X_train),len(X_test),len(y_train),len(y_test)"
      ],
      "metadata": {
        "colab": {
          "base_uri": "https://localhost:8080/"
        },
        "id": "7FFvjsP5JCDV",
        "outputId": "86231376-6bdc-4d71-e072-c8a40e39d722"
      },
      "execution_count": 167,
      "outputs": [
        {
          "output_type": "execute_result",
          "data": {
            "text/plain": [
              "(2099, 900, 2099, 900)"
            ]
          },
          "metadata": {},
          "execution_count": 167
        }
      ]
    },
    {
      "cell_type": "code",
      "source": [
        "#Defining Accuracy function\n",
        "\n",
        "def accuracy_fn(y_true,y_pred):\n",
        "    correct = torch.eq(y_true,y_pred).sum().item()\n",
        "    acc = (correct/len(y_pred))*100\n",
        "    return acc\n"
      ],
      "metadata": {
        "id": "nwLaqa4YKyHi"
      },
      "execution_count": 168,
      "outputs": []
    },
    {
      "cell_type": "code",
      "source": [
        "# Making the Model\n",
        "class SpamClassifierV0(nn.Module):\n",
        "  def __init__(self):\n",
        "    super().__init__()\n",
        "    self.layer_1 = nn.Linear(in_features = 34116,out_features = 10)\n",
        "    self.layer_2 = nn.Linear(in_features = 10,out_features = 10)\n",
        "    self.layer_3 = nn.Linear(in_features = 10,out_features = 1)\n",
        "\n",
        "\n",
        "  def forward(self,x):\n",
        "    return self.layer_3(self.layer_2((self.layer_1(x))))"
      ],
      "metadata": {
        "id": "R2p3_IiLMA6r"
      },
      "execution_count": 169,
      "outputs": []
    },
    {
      "cell_type": "code",
      "source": [],
      "metadata": {
        "id": "PM628et1Webx"
      },
      "execution_count": 169,
      "outputs": []
    },
    {
      "cell_type": "code",
      "source": [
        "model_0 = SpamClassifierV0().to(device)\n",
        "model_0"
      ],
      "metadata": {
        "colab": {
          "base_uri": "https://localhost:8080/"
        },
        "id": "RFrKhD_CQDwI",
        "outputId": "0775fbf7-44bc-4b6f-a9f8-d1abb155497a"
      },
      "execution_count": 170,
      "outputs": [
        {
          "output_type": "execute_result",
          "data": {
            "text/plain": [
              "SpamClassifierV0(\n",
              "  (layer_1): Linear(in_features=34116, out_features=10, bias=True)\n",
              "  (layer_2): Linear(in_features=10, out_features=10, bias=True)\n",
              "  (layer_3): Linear(in_features=10, out_features=1, bias=True)\n",
              ")"
            ]
          },
          "metadata": {},
          "execution_count": 170
        }
      ]
    },
    {
      "cell_type": "code",
      "source": [
        "loss_fn = nn.BCEWithLogitsLoss()\n",
        "optimizer = torch.optim.Adam(params = model_0.parameters(),lr = 0.01)"
      ],
      "metadata": {
        "id": "mujHahndMcQ6"
      },
      "execution_count": 171,
      "outputs": []
    },
    {
      "cell_type": "code",
      "source": [
        "torch.manual_seed(42)\n",
        "torch.cuda.manual_seed(42)\n",
        "epochs = 300\n",
        "\n",
        "X_train , X_test = X_train.to(device),X_test.to(device)\n",
        "y_train , y_test = y_train.to(device),y_test.to(device)\n",
        "\n",
        "for epoch in range(epochs):\n",
        "  model_0.train()\n",
        "  y_logits = model_0(X_train).squeeze()\n",
        "  y_pred = torch.round(torch.sigmoid(y_logits))\n",
        "  loss = loss_fn(y_logits,y_train)\n",
        "  acc = accuracy_fn(y_true = y_train , y_pred=y_pred)\n",
        "  optimizer.zero_grad()\n",
        "  loss.backward()\n",
        "  optimizer.step()\n",
        "\n",
        "  model_0.eval()\n",
        "\n",
        "  with torch.inference_mode():\n",
        "    test_logits = model_0(X_test).squeeze()\n",
        "    test_pred = torch.round(torch.sigmoid(test_logits))\n",
        "    test_loss = loss_fn(test_logits,y_test)\n",
        "    test_acc = accuracy_fn(y_true = y_test , y_pred=test_pred)\n",
        "\n",
        "  if epoch % 10 == 0:\n",
        "    print(f\"Epoch: {epoch} | Loss: {loss:.5f} | Acc: {acc:.2f}% | Test Loss: {test_loss:.5f} | Test Acc : {test_acc:0.2f}\")"
      ],
      "metadata": {
        "colab": {
          "base_uri": "https://localhost:8080/"
        },
        "id": "0j1v9FivQHB3",
        "outputId": "97921275-d9b2-416d-aed4-54b4c949ca60"
      },
      "execution_count": 172,
      "outputs": [
        {
          "output_type": "stream",
          "name": "stdout",
          "text": [
            "Epoch: 0 | Loss: 0.83420 | Acc: 16.15% | Test Loss: 0.63676 | Test Acc : 61.22\n",
            "Epoch: 10 | Loss: 0.03950 | Acc: 99.67% | Test Loss: 0.08610 | Test Acc : 98.44\n",
            "Epoch: 20 | Loss: 0.00718 | Acc: 99.81% | Test Loss: 0.11648 | Test Acc : 98.33\n",
            "Epoch: 30 | Loss: 0.00439 | Acc: 99.81% | Test Loss: 0.13814 | Test Acc : 98.44\n",
            "Epoch: 40 | Loss: 0.00273 | Acc: 99.90% | Test Loss: 0.13284 | Test Acc : 98.67\n",
            "Epoch: 50 | Loss: 0.00248 | Acc: 99.90% | Test Loss: 0.12343 | Test Acc : 98.78\n",
            "Epoch: 60 | Loss: 0.00227 | Acc: 99.90% | Test Loss: 0.11398 | Test Acc : 99.00\n",
            "Epoch: 70 | Loss: 0.00204 | Acc: 99.90% | Test Loss: 0.10422 | Test Acc : 99.11\n",
            "Epoch: 80 | Loss: 0.00183 | Acc: 99.90% | Test Loss: 0.09491 | Test Acc : 99.00\n",
            "Epoch: 90 | Loss: 0.00163 | Acc: 99.90% | Test Loss: 0.08665 | Test Acc : 99.00\n",
            "Epoch: 100 | Loss: 0.00146 | Acc: 99.90% | Test Loss: 0.08011 | Test Acc : 99.11\n",
            "Epoch: 110 | Loss: 0.00132 | Acc: 99.90% | Test Loss: 0.07527 | Test Acc : 99.11\n",
            "Epoch: 120 | Loss: 0.00121 | Acc: 99.90% | Test Loss: 0.07176 | Test Acc : 99.11\n",
            "Epoch: 130 | Loss: 0.00112 | Acc: 99.95% | Test Loss: 0.06938 | Test Acc : 99.22\n",
            "Epoch: 140 | Loss: 0.00104 | Acc: 99.95% | Test Loss: 0.06788 | Test Acc : 99.22\n",
            "Epoch: 150 | Loss: 0.00098 | Acc: 99.95% | Test Loss: 0.06704 | Test Acc : 99.22\n",
            "Epoch: 160 | Loss: 0.00092 | Acc: 99.95% | Test Loss: 0.06662 | Test Acc : 99.22\n",
            "Epoch: 170 | Loss: 0.00088 | Acc: 99.95% | Test Loss: 0.06646 | Test Acc : 99.11\n",
            "Epoch: 180 | Loss: 0.00084 | Acc: 99.95% | Test Loss: 0.06645 | Test Acc : 99.11\n",
            "Epoch: 190 | Loss: 0.00081 | Acc: 99.95% | Test Loss: 0.06651 | Test Acc : 99.11\n",
            "Epoch: 200 | Loss: 0.00078 | Acc: 99.95% | Test Loss: 0.06662 | Test Acc : 99.11\n",
            "Epoch: 210 | Loss: 0.00075 | Acc: 99.95% | Test Loss: 0.06678 | Test Acc : 99.11\n",
            "Epoch: 220 | Loss: 0.00073 | Acc: 99.95% | Test Loss: 0.06705 | Test Acc : 99.11\n",
            "Epoch: 230 | Loss: 0.00071 | Acc: 99.95% | Test Loss: 0.06753 | Test Acc : 99.11\n",
            "Epoch: 240 | Loss: 0.00069 | Acc: 99.95% | Test Loss: 0.06803 | Test Acc : 99.11\n",
            "Epoch: 250 | Loss: 0.00067 | Acc: 99.95% | Test Loss: 0.06843 | Test Acc : 99.11\n",
            "Epoch: 260 | Loss: 0.00066 | Acc: 99.95% | Test Loss: 0.06876 | Test Acc : 99.11\n",
            "Epoch: 270 | Loss: 0.00065 | Acc: 99.95% | Test Loss: 0.06909 | Test Acc : 99.11\n",
            "Epoch: 280 | Loss: 0.00063 | Acc: 99.95% | Test Loss: 0.06947 | Test Acc : 99.11\n",
            "Epoch: 290 | Loss: 0.00062 | Acc: 99.95% | Test Loss: 0.06985 | Test Acc : 99.11\n"
          ]
        }
      ]
    },
    {
      "cell_type": "code",
      "source": [
        "y_pred = model_0(X_test[:1])\n",
        "print(y_pred)\n",
        "y_test[:10]\n",
        "\n"
      ],
      "metadata": {
        "colab": {
          "base_uri": "https://localhost:8080/"
        },
        "id": "wfLbsp1eR9iR",
        "outputId": "ec584d5e-b0d6-4595-ad40-88f812fc6e39"
      },
      "execution_count": 173,
      "outputs": [
        {
          "output_type": "stream",
          "name": "stdout",
          "text": [
            "tensor([[-56.7098]], device='cuda:0', grad_fn=<AddmmBackward0>)\n"
          ]
        },
        {
          "output_type": "execute_result",
          "data": {
            "text/plain": [
              "tensor([0., 0., 0., 0., 0., 0., 0., 0., 1., 0.], device='cuda:0')"
            ]
          },
          "metadata": {},
          "execution_count": 173
        }
      ]
    },
    {
      "cell_type": "code",
      "source": [
        "from pathlib import Path\n",
        "\n",
        "MODEL_PATH = Path(\"spam_classifier_v0.pth\")\n",
        "MODEL_PATH.parent.mkdir(parents=True, exist_ok=True)\n",
        "torch.save(obj=model_0.state_dict(),f=MODEL_PATH)"
      ],
      "metadata": {
        "id": "ThdHQ15jT2T-"
      },
      "execution_count": 174,
      "outputs": []
    },
    {
      "cell_type": "code",
      "source": [
        "model_1 = SpamClassifierV0()\n",
        "model_1.load_state_dict(torch.load(f=MODEL_PATH))"
      ],
      "metadata": {
        "colab": {
          "base_uri": "https://localhost:8080/"
        },
        "id": "NN5WOlyxUEdl",
        "outputId": "4a73aeb8-d448-41ea-986a-9358bf1f453c"
      },
      "execution_count": 175,
      "outputs": [
        {
          "output_type": "execute_result",
          "data": {
            "text/plain": [
              "<All keys matched successfully>"
            ]
          },
          "metadata": {},
          "execution_count": 175
        }
      ]
    },
    {
      "cell_type": "code",
      "source": [
        "texts = [\n",
        "\n",
        "\"\"\"have lost my bicycle on 10th August.I have bought it Last week. Last parked at infront of BH4. Please send me 1000 money \"\"\"\n",
        "\n",
        "\n",
        "\n",
        "\n",
        "]\n",
        "with open('vectorizer.pkl', 'rb') as f:\n",
        "  loaded_vectorizer = pickle.load(f)\n",
        "\n",
        "bow_data = loaded_vectorizer.transform(texts).toarray()\n",
        "\n",
        "\n",
        "X_pred = torch.tensor(bow_data, dtype=torch.float)\n",
        "\n",
        "X_pred"
      ],
      "metadata": {
        "colab": {
          "base_uri": "https://localhost:8080/"
        },
        "id": "swcC3feHUjYe",
        "outputId": "6ae6fbae-e7d6-4ee4-d6fb-d8676c55e71d"
      },
      "execution_count": 206,
      "outputs": [
        {
          "output_type": "execute_result",
          "data": {
            "text/plain": [
              "tensor([[0., 0., 0.,  ..., 0., 0., 0.]])"
            ]
          },
          "metadata": {},
          "execution_count": 206
        }
      ]
    },
    {
      "cell_type": "code",
      "source": [
        "model_1.eval()\n",
        "with torch.inference_mode():\n",
        "  y_logits = model_1(X_pred).squeeze()\n",
        "  y_pred = torch.round(torch.sigmoid(y_logits))\n",
        "y_pred = \"It is Spam\" if y_pred == 1 else \"It is not Spam\""
      ],
      "metadata": {
        "id": "svEE3ifKVefU"
      },
      "execution_count": 207,
      "outputs": []
    },
    {
      "cell_type": "code",
      "source": [
        "print(y_pred)"
      ],
      "metadata": {
        "colab": {
          "base_uri": "https://localhost:8080/"
        },
        "id": "8kvyMYllViXr",
        "outputId": "d3c69a01-7105-483a-f8e7-e18256eec3ad"
      },
      "execution_count": 208,
      "outputs": [
        {
          "output_type": "stream",
          "name": "stdout",
          "text": [
            "It is Spam\n"
          ]
        }
      ]
    },
    {
      "cell_type": "code",
      "source": [],
      "metadata": {
        "id": "imCsw4-AZo4A"
      },
      "execution_count": 190,
      "outputs": []
    }
  ]
}